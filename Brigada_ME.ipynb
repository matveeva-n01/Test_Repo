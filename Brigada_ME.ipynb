{
  "nbformat": 4,
  "nbformat_minor": 0,
  "metadata": {
    "colab": {
      "name": " Brigada_ME.ipynb",
      "provenance": [],
      "collapsed_sections": [],
      "authorship_tag": "ABX9TyMYTlwvKSG3ao5AlTfr/XVE",
      "include_colab_link": true
    },
    "kernelspec": {
      "name": "python3",
      "display_name": "Python 3"
    }
  },
  "cells": [
    {
      "cell_type": "markdown",
      "metadata": {
        "id": "view-in-github",
        "colab_type": "text"
      },
      "source": [
        "<a href=\"https://colab.research.google.com/github/matveeva-n01/Test_Repo/blob/master/Brigada_ME.ipynb\" target=\"_parent\"><img src=\"https://colab.research.google.com/assets/colab-badge.svg\" alt=\"Open In Colab\"/></a>"
      ]
    },
    {
      "cell_type": "markdown",
      "metadata": {
        "id": "n-M7NHlgDuBH",
        "colab_type": "text"
      },
      "source": [
        "# Учебные предметы\n",
        "Дисциплины:\n",
        "- Физическая культура и спорт\n",
        "- Основы личностной и коммуникативной культуры\n",
        "- Иностранный язык\n",
        "- Высшая математика\n",
        "- Информатика\n",
        "- Физика\n",
        "- Инженерная графика\n",
        "- Правоведение\n",
        "- История\n",
        "\n",
        "![подпись](https://sun9-35.userapi.com/c855236/v855236620/22c4f6/nDJpouSZkGg.jpg)\n",
        "\n",
        "| раз | два | три |\n",
        "|:----|:----|:----|\n",
        "| раз | два | три | \n",
        "\n",
        "[Методичка](https://docs.google.com/document/d/16v6rV5h8FXo4--vmA_8LPxEyzIH5ncZ4svwkislAgaA/mobilebasic)"
      ]
    }
  ]
}